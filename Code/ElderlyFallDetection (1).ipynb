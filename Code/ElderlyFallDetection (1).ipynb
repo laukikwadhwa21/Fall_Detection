{
 "cells": [
  {
   "cell_type": "code",
   "execution_count": null,
   "metadata": {
    "colab": {
     "base_uri": "https://localhost:8080/"
    },
    "executionInfo": {
     "elapsed": 26751,
     "status": "ok",
     "timestamp": 1750616564205,
     "user": {
      "displayName": "Laukik Wadhwa",
      "userId": "16429573543853500560"
     },
     "user_tz": -330
    },
    "id": "Zw-_vh8K0nmV",
    "outputId": "33683b46-c239-47d7-bf1e-e18249f38ddb"
   },
   "outputs": [
    {
     "name": "stdout",
     "output_type": "stream",
     "text": [
      "Drive already mounted at /content/drive; to attempt to forcibly remount, call drive.mount(\"/content/drive\", force_remount=True).\n",
      "Requirement already satisfied: tensorflow in /usr/local/lib/python3.11/dist-packages (2.18.0)\n",
      "Requirement already satisfied: pandas in /usr/local/lib/python3.11/dist-packages (2.2.2)\n",
      "Requirement already satisfied: numpy in /usr/local/lib/python3.11/dist-packages (2.0.2)\n",
      "Requirement already satisfied: scikit-learn in /usr/local/lib/python3.11/dist-packages (1.6.1)\n",
      "Requirement already satisfied: matplotlib in /usr/local/lib/python3.11/dist-packages (3.10.0)\n",
      "Requirement already satisfied: absl-py>=1.0.0 in /usr/local/lib/python3.11/dist-packages (from tensorflow) (1.4.0)\n",
      "Requirement already satisfied: astunparse>=1.6.0 in /usr/local/lib/python3.11/dist-packages (from tensorflow) (1.6.3)\n",
      "Requirement already satisfied: flatbuffers>=24.3.25 in /usr/local/lib/python3.11/dist-packages (from tensorflow) (25.2.10)\n",
      "Requirement already satisfied: gast!=0.5.0,!=0.5.1,!=0.5.2,>=0.2.1 in /usr/local/lib/python3.11/dist-packages (from tensorflow) (0.6.0)\n",
      "Requirement already satisfied: google-pasta>=0.1.1 in /usr/local/lib/python3.11/dist-packages (from tensorflow) (0.2.0)\n",
      "Requirement already satisfied: libclang>=13.0.0 in /usr/local/lib/python3.11/dist-packages (from tensorflow) (18.1.1)\n",
      "Requirement already satisfied: opt-einsum>=2.3.2 in /usr/local/lib/python3.11/dist-packages (from tensorflow) (3.4.0)\n",
      "Requirement already satisfied: packaging in /usr/local/lib/python3.11/dist-packages (from tensorflow) (24.2)\n",
      "Requirement already satisfied: protobuf!=4.21.0,!=4.21.1,!=4.21.2,!=4.21.3,!=4.21.4,!=4.21.5,<6.0.0dev,>=3.20.3 in /usr/local/lib/python3.11/dist-packages (from tensorflow) (5.29.5)\n",
      "Requirement already satisfied: requests<3,>=2.21.0 in /usr/local/lib/python3.11/dist-packages (from tensorflow) (2.32.3)\n",
      "Requirement already satisfied: setuptools in /usr/local/lib/python3.11/dist-packages (from tensorflow) (75.2.0)\n",
      "Requirement already satisfied: six>=1.12.0 in /usr/local/lib/python3.11/dist-packages (from tensorflow) (1.17.0)\n",
      "Requirement already satisfied: termcolor>=1.1.0 in /usr/local/lib/python3.11/dist-packages (from tensorflow) (3.1.0)\n",
      "Requirement already satisfied: typing-extensions>=3.6.6 in /usr/local/lib/python3.11/dist-packages (from tensorflow) (4.14.0)\n",
      "Requirement already satisfied: wrapt>=1.11.0 in /usr/local/lib/python3.11/dist-packages (from tensorflow) (1.17.2)\n",
      "Requirement already satisfied: grpcio<2.0,>=1.24.3 in /usr/local/lib/python3.11/dist-packages (from tensorflow) (1.73.0)\n",
      "Requirement already satisfied: tensorboard<2.19,>=2.18 in /usr/local/lib/python3.11/dist-packages (from tensorflow) (2.18.0)\n",
      "Requirement already satisfied: keras>=3.5.0 in /usr/local/lib/python3.11/dist-packages (from tensorflow) (3.8.0)\n",
      "Requirement already satisfied: h5py>=3.11.0 in /usr/local/lib/python3.11/dist-packages (from tensorflow) (3.14.0)\n",
      "Requirement already satisfied: ml-dtypes<0.5.0,>=0.4.0 in /usr/local/lib/python3.11/dist-packages (from tensorflow) (0.4.1)\n",
      "Requirement already satisfied: tensorflow-io-gcs-filesystem>=0.23.1 in /usr/local/lib/python3.11/dist-packages (from tensorflow) (0.37.1)\n",
      "Requirement already satisfied: python-dateutil>=2.8.2 in /usr/local/lib/python3.11/dist-packages (from pandas) (2.9.0.post0)\n",
      "Requirement already satisfied: pytz>=2020.1 in /usr/local/lib/python3.11/dist-packages (from pandas) (2025.2)\n",
      "Requirement already satisfied: tzdata>=2022.7 in /usr/local/lib/python3.11/dist-packages (from pandas) (2025.2)\n",
      "Requirement already satisfied: scipy>=1.6.0 in /usr/local/lib/python3.11/dist-packages (from scikit-learn) (1.15.3)\n",
      "Requirement already satisfied: joblib>=1.2.0 in /usr/local/lib/python3.11/dist-packages (from scikit-learn) (1.5.1)\n",
      "Requirement already satisfied: threadpoolctl>=3.1.0 in /usr/local/lib/python3.11/dist-packages (from scikit-learn) (3.6.0)\n",
      "Requirement already satisfied: contourpy>=1.0.1 in /usr/local/lib/python3.11/dist-packages (from matplotlib) (1.3.2)\n",
      "Requirement already satisfied: cycler>=0.10 in /usr/local/lib/python3.11/dist-packages (from matplotlib) (0.12.1)\n",
      "Requirement already satisfied: fonttools>=4.22.0 in /usr/local/lib/python3.11/dist-packages (from matplotlib) (4.58.4)\n",
      "Requirement already satisfied: kiwisolver>=1.3.1 in /usr/local/lib/python3.11/dist-packages (from matplotlib) (1.4.8)\n",
      "Requirement already satisfied: pillow>=8 in /usr/local/lib/python3.11/dist-packages (from matplotlib) (11.2.1)\n",
      "Requirement already satisfied: pyparsing>=2.3.1 in /usr/local/lib/python3.11/dist-packages (from matplotlib) (3.2.3)\n",
      "Requirement already satisfied: wheel<1.0,>=0.23.0 in /usr/local/lib/python3.11/dist-packages (from astunparse>=1.6.0->tensorflow) (0.45.1)\n",
      "Requirement already satisfied: rich in /usr/local/lib/python3.11/dist-packages (from keras>=3.5.0->tensorflow) (13.9.4)\n",
      "Requirement already satisfied: namex in /usr/local/lib/python3.11/dist-packages (from keras>=3.5.0->tensorflow) (0.1.0)\n",
      "Requirement already satisfied: optree in /usr/local/lib/python3.11/dist-packages (from keras>=3.5.0->tensorflow) (0.16.0)\n",
      "Requirement already satisfied: charset-normalizer<4,>=2 in /usr/local/lib/python3.11/dist-packages (from requests<3,>=2.21.0->tensorflow) (3.4.2)\n",
      "Requirement already satisfied: idna<4,>=2.5 in /usr/local/lib/python3.11/dist-packages (from requests<3,>=2.21.0->tensorflow) (3.10)\n",
      "Requirement already satisfied: urllib3<3,>=1.21.1 in /usr/local/lib/python3.11/dist-packages (from requests<3,>=2.21.0->tensorflow) (2.4.0)\n",
      "Requirement already satisfied: certifi>=2017.4.17 in /usr/local/lib/python3.11/dist-packages (from requests<3,>=2.21.0->tensorflow) (2025.6.15)\n",
      "Requirement already satisfied: markdown>=2.6.8 in /usr/local/lib/python3.11/dist-packages (from tensorboard<2.19,>=2.18->tensorflow) (3.8)\n",
      "Requirement already satisfied: tensorboard-data-server<0.8.0,>=0.7.0 in /usr/local/lib/python3.11/dist-packages (from tensorboard<2.19,>=2.18->tensorflow) (0.7.2)\n",
      "Requirement already satisfied: werkzeug>=1.0.1 in /usr/local/lib/python3.11/dist-packages (from tensorboard<2.19,>=2.18->tensorflow) (3.1.3)\n",
      "Requirement already satisfied: MarkupSafe>=2.1.1 in /usr/local/lib/python3.11/dist-packages (from werkzeug>=1.0.1->tensorboard<2.19,>=2.18->tensorflow) (3.0.2)\n",
      "Requirement already satisfied: markdown-it-py>=2.2.0 in /usr/local/lib/python3.11/dist-packages (from rich->keras>=3.5.0->tensorflow) (3.0.0)\n",
      "Requirement already satisfied: pygments<3.0.0,>=2.13.0 in /usr/local/lib/python3.11/dist-packages (from rich->keras>=3.5.0->tensorflow) (2.19.1)\n",
      "Requirement already satisfied: mdurl~=0.1 in /usr/local/lib/python3.11/dist-packages (from markdown-it-py>=2.2.0->rich->keras>=3.5.0->tensorflow) (0.1.2)\n"
     ]
    }
   ],
   "source": [
    "#Cell 1: Mount Google Drive and Install Libraries\n",
    "\n",
    "# Mount Google Drive\n",
    "from google.colab import drive\n",
    "drive.mount('/content/drive')\n",
    "\n",
    "# Install necessary libraries\n",
    "!pip install tensorflow pandas numpy scikit-learn matplotlib"
   ]
  },
  {
   "cell_type": "code",
   "execution_count": null,
   "metadata": {
    "colab": {
     "base_uri": "https://localhost:8080/"
    },
    "executionInfo": {
     "elapsed": 22,
     "status": "ok",
     "timestamp": 1750211477662,
     "user": {
      "displayName": "Laukik Wadhwa",
      "userId": "16429573543853500560"
     },
     "user_tz": -330
    },
    "id": "qmzgNnOa2OMq",
    "outputId": "8af09f76-cada-4976-cfa9-9c440d0a7d20"
   },
   "outputs": [
    {
     "name": "stdout",
     "output_type": "stream",
     "text": [
      "Final working data loading function defined.\n"
     ]
    }
   ],
   "source": [
    "# Cell 2: Data Loading Function (Final Version for @DATA Format)\n",
    "\n",
    "import os\n",
    "import pandas as pd\n",
    "import numpy as np\n",
    "from sklearn.model_selection import train_test_split\n",
    "from sklearn.preprocessing import StandardScaler\n",
    "import io # Required for in-memory file handling\n",
    "\n",
    "# --- Configuration ---\n",
    "DRIVE_PROJECT_PATH = '/content/drive/My Drive/Colab Notebooks/TinyML_Fall_Detection/'\n",
    "DATASET_PATH = os.path.join(DRIVE_PROJECT_PATH, 'MobiFall_Dataset_v2.0/')\n",
    "\n",
    "# Specific activity folder names that are considered falls\n",
    "FALL_TYPES = ['FOL', 'FKL', 'BSC', 'SDL']\n",
    "\n",
    "# Windowing and Feature parameters\n",
    "TIME_STEPS = 150\n",
    "STEP = 75\n",
    "NUM_FEATURES = 3 # We are only using the x, y, z from accelerometer\n",
    "\n",
    "def load_data_final_working():\n",
    "    \"\"\"\n",
    "    Final robust version. This function correctly handles the file format by\n",
    "    finding the @DATA marker and only parsing the comma-separated data that follows.\n",
    "    \"\"\"\n",
    "    segments = []\n",
    "    labels = []\n",
    "\n",
    "    print(\"--- Starting Final Data Loading Attempt (with @DATA parser) ---\")\n",
    "\n",
    "    if not os.path.exists(DATASET_PATH):\n",
    "        print(f\"[ERROR] The base dataset path does not exist: {DATASET_PATH}\")\n",
    "        return np.array([]), np.array([])\n",
    "\n",
    "    subject_folders = sorted([d for d in os.listdir(DATASET_PATH) if d.startswith('sub') and os.path.isdir(os.path.join(DATASET_PATH, d))])\n",
    "\n",
    "    for subject_folder in subject_folders:\n",
    "        subject_path = os.path.join(DATASET_PATH, subject_folder)\n",
    "\n",
    "        for activity_group_folder in os.listdir(subject_path):\n",
    "            activity_group_path = os.path.join(subject_path, activity_group_folder)\n",
    "            if not os.path.isdir(activity_group_path): continue\n",
    "\n",
    "            for specific_activity in os.listdir(activity_group_path):\n",
    "                specific_activity_path = os.path.join(activity_group_path, specific_activity)\n",
    "                if not os.path.isdir(specific_activity_path): continue\n",
    "\n",
    "                is_fall = 1 if specific_activity in FALL_TYPES else 0\n",
    "\n",
    "                all_files_in_dir = os.listdir(specific_activity_path)\n",
    "                acc_files = sorted([f for f in all_files_in_dir if '_acc_' in f.lower() and f.lower().endswith('.txt')])\n",
    "\n",
    "                if not acc_files:\n",
    "                    continue\n",
    "\n",
    "                for acc_filename in acc_files:\n",
    "                    file_path = os.path.join(specific_activity_path, acc_filename)\n",
    "                    try:\n",
    "                        with open(file_path, 'r') as f:\n",
    "                            data_lines = []\n",
    "                            data_started = False\n",
    "                            for line in f:\n",
    "                                stripped_line = line.strip()\n",
    "                                if not stripped_line: continue # Skip any blank lines\n",
    "\n",
    "                                # Once we find @DATA, we start appending subsequent lines\n",
    "                                if data_started:\n",
    "                                    data_lines.append(stripped_line)\n",
    "\n",
    "                                # Check for the @DATA marker (case-insensitive)\n",
    "                                if stripped_line.upper() == '@DATA':\n",
    "                                    data_started = True\n",
    "\n",
    "                        if not data_lines:\n",
    "                            print(f\"[Warning] Skipped file with no data found after @DATA marker: {file_path}\")\n",
    "                            continue\n",
    "\n",
    "                        # Create an in-memory text buffer from our collected data lines\n",
    "                        data_buffer = io.StringIO('\\n'.join(data_lines))\n",
    "\n",
    "                        # Now, read this clean buffer with pandas. It should only contain data.\n",
    "                        # The first column is timestamp, the next three are acc_x, acc_y, acc_z\n",
    "                        df = pd.read_csv(data_buffer, header=None, sep=',')\n",
    "\n",
    "                        # We need columns 1, 2, and 3 (the x,y,z data)\n",
    "                        if df.shape[1] >= 4:\n",
    "                            # Select columns 1, 2, 3 for accelerometer data\n",
    "                            data_for_windowing = df.iloc[:, 1:4].values.astype(float)\n",
    "\n",
    "                            for i in range(0, len(data_for_windowing) - TIME_STEPS + 1, STEP):\n",
    "                                window = data_for_windowing[i: i + TIME_STEPS]\n",
    "                                segments.append(window)\n",
    "                                labels.append(is_fall)\n",
    "                        else:\n",
    "                            print(f\"[Warning] Skipped file with insufficient columns after parsing data ({df.shape}): {file_path}\")\n",
    "\n",
    "                    except Exception as e:\n",
    "                        print(f\"[ERROR] Could not process file {file_path}. Error: {e}\")\n",
    "\n",
    "    if not segments:\n",
    "        print(\"\\n[CRITICAL ERROR] No data was loaded. Please check the warnings above.\")\n",
    "        return np.array([]), np.array([])\n",
    "\n",
    "    print(f\"\\n[SUCCESS] Successfully loaded {len(segments)} windows using accelerometer data.\")\n",
    "    return np.array(segments), np.array(labels)\n",
    "\n",
    "print(\"Final working data loading function defined.\")"
   ]
  },
  {
   "cell_type": "code",
   "execution_count": null,
   "metadata": {
    "colab": {
     "base_uri": "https://localhost:8080/"
    },
    "executionInfo": {
     "elapsed": 5268,
     "status": "ok",
     "timestamp": 1750211490337,
     "user": {
      "displayName": "Laukik Wadhwa",
      "userId": "16429573543853500560"
     },
     "user_tz": -330
    },
    "id": "m0mFV8t7jser",
    "outputId": "df5552f1-f0bb-4997-97d2-346a8740bb83"
   },
   "outputs": [
    {
     "name": "stdout",
     "output_type": "stream",
     "text": [
      "--- Starting Final Data Loading Attempt (with @DATA parser) ---\n",
      "\n",
      "[SUCCESS] Successfully loaded 12971 windows using accelerometer data.\n",
      "\n",
      "Shape of X before split: (12971, 150, 3)\n",
      "Shape of y before split: (12971,)\n",
      "Label distribution: {np.int64(0): np.int64(10193), np.int64(1): np.int64(2778)} (0=ADL, 1=Fall)\n",
      "\n",
      "--- Scaler Info (COPY THESE for embedded device) ---\n",
      "float SCALER_MEAN[] = {-0.22145857198715083, 7.362072807828835, 1.299067169081437};\n",
      "float SCALER_SCALE[] = {4.034813242379331, 5.193313431588992, 4.143631195725836};\n",
      "--------------------------------------------------\n",
      "\n",
      "Saving processed data to Google Drive...\n",
      "Data preparation complete and files saved to Google Drive.\n"
     ]
    }
   ],
   "source": [
    "# Cell 3: Data Processing and Saving (Corrected)\n",
    "\n",
    "# 1. Load and process the data from Google Drive using the FINAL corrected function\n",
    "# --- CORRECTED LINE: Changed function name to match the one defined in Cell 2 ---\n",
    "X, y = load_data_final_working()\n",
    "\n",
    "if X.size == 0:\n",
    "    print(\"\\nHalting execution because no data was loaded. Please review the output above for errors in file paths or structure.\")\n",
    "else:\n",
    "    print(f\"\\nShape of X before split: {X.shape}\")\n",
    "    print(f\"Shape of y before split: {y.shape}\")\n",
    "\n",
    "    unique_labels, counts = np.unique(y, return_counts=True)\n",
    "    print(f\"Label distribution: {dict(zip(unique_labels, counts))} (0=ADL, 1=Fall)\")\n",
    "\n",
    "    # 2. Split the data into training and testing sets\n",
    "    if X.shape[0] > 1 and len(unique_labels) > 1:\n",
    "        X_train, X_test, y_train, y_test = train_test_split(X, y, test_size=0.2, random_state=42, stratify=y)\n",
    "    else:\n",
    "        # This condition is kept for safety, but with the corrected loader, it should not be triggered.\n",
    "        raise ValueError(\"Insufficient data to proceed with model training. Check data loading logs.\")\n",
    "\n",
    "    # 3. Standardize the data\n",
    "    scaler = StandardScaler()\n",
    "    # Reshape to 2D for the scaler, fit it, and then reshape back to 3D\n",
    "    X_train_reshaped = X_train.reshape(-1, X_train.shape[-1])\n",
    "    scaler.fit(X_train_reshaped)\n",
    "\n",
    "    X_train_scaled = scaler.transform(X_train.reshape(-1, X_train.shape[-1])).reshape(X_train.shape)\n",
    "    X_test_scaled = scaler.transform(X_test.reshape(-1, X_test.shape[-1])).reshape(X_test.shape)\n",
    "\n",
    "    print(\"\\n--- Scaler Info (COPY THESE for embedded device) ---\")\n",
    "    scaler_mean_list = scaler.mean_.tolist()\n",
    "    scaler_scale_list = scaler.scale_.tolist()\n",
    "    print(f\"float SCALER_MEAN[] = {{{', '.join(map(str, scaler_mean_list))}}};\")\n",
    "    print(f\"float SCALER_SCALE[] = {{{', '.join(map(str, scaler_scale_list))}}};\")\n",
    "    print(\"--------------------------------------------------\\n\")\n",
    "\n",
    "    # 4. Save the processed data to Google Drive\n",
    "    print(\"Saving processed data to Google Drive...\")\n",
    "    np.save(os.path.join(DRIVE_PROJECT_PATH, 'X_train.npy'), X_train_scaled)\n",
    "    np.save(os.path.join(DRIVE_PROJECT_PATH, 'X_test.npy'), X_test_scaled)\n",
    "    np.save(os.path.join(DRIVE_PROJECT_PATH, 'y_train.npy'), y_train)\n",
    "    np.save(os.path.join(DRIVE_PROJECT_PATH, 'y_test.npy'), y_test)\n",
    "\n",
    "    print(\"Data preparation complete and files saved to Google Drive.\")"
   ]
  },
  {
   "cell_type": "code",
   "execution_count": null,
   "metadata": {
    "colab": {
     "base_uri": "https://localhost:8080/",
     "height": 1000
    },
    "executionInfo": {
     "elapsed": 68081,
     "status": "ok",
     "timestamp": 1750211699497,
     "user": {
      "displayName": "Laukik Wadhwa",
      "userId": "16429573543853500560"
     },
     "user_tz": -330
    },
    "id": "paO1-9na2mfV",
    "outputId": "0a468375-dd87-4af6-be53-c7fae6d1fba9"
   },
   "outputs": [
    {
     "name": "stdout",
     "output_type": "stream",
     "text": [
      "Loading preprocessed data from Google Drive...\n",
      "Data loaded successfully.\n",
      "Training data shape: (10376, 150, 3)\n"
     ]
    },
    {
     "name": "stderr",
     "output_type": "stream",
     "text": [
      "/usr/local/lib/python3.11/dist-packages/keras/src/layers/convolutional/base_conv.py:107: UserWarning: Do not pass an `input_shape`/`input_dim` argument to a layer. When using Sequential models, prefer using an `Input(shape)` object as the first layer in the model instead.\n",
      "  super().__init__(activity_regularizer=activity_regularizer, **kwargs)\n"
     ]
    },
    {
     "data": {
      "text/html": [
       "<pre style=\"white-space:pre;overflow-x:auto;line-height:normal;font-family:Menlo,'DejaVu Sans Mono',consolas,'Courier New',monospace\"><span style=\"font-weight: bold\">Model: \"sequential\"</span>\n",
       "</pre>\n"
      ],
      "text/plain": [
       "\u001b[1mModel: \"sequential\"\u001b[0m\n"
      ]
     },
     "metadata": {},
     "output_type": "display_data"
    },
    {
     "data": {
      "text/html": [
       "<pre style=\"white-space:pre;overflow-x:auto;line-height:normal;font-family:Menlo,'DejaVu Sans Mono',consolas,'Courier New',monospace\">┏━━━━━━━━━━━━━━━━━━━━━━━━━━━━━━━━━┳━━━━━━━━━━━━━━━━━━━━━━━━┳━━━━━━━━━━━━━━━┓\n",
       "┃<span style=\"font-weight: bold\"> Layer (type)                    </span>┃<span style=\"font-weight: bold\"> Output Shape           </span>┃<span style=\"font-weight: bold\">       Param # </span>┃\n",
       "┡━━━━━━━━━━━━━━━━━━━━━━━━━━━━━━━━━╇━━━━━━━━━━━━━━━━━━━━━━━━╇━━━━━━━━━━━━━━━┩\n",
       "│ conv1d (<span style=\"color: #0087ff; text-decoration-color: #0087ff\">Conv1D</span>)                 │ (<span style=\"color: #00d7ff; text-decoration-color: #00d7ff\">None</span>, <span style=\"color: #00af00; text-decoration-color: #00af00\">146</span>, <span style=\"color: #00af00; text-decoration-color: #00af00\">8</span>)         │           <span style=\"color: #00af00; text-decoration-color: #00af00\">128</span> │\n",
       "├─────────────────────────────────┼────────────────────────┼───────────────┤\n",
       "│ batch_normalization             │ (<span style=\"color: #00d7ff; text-decoration-color: #00d7ff\">None</span>, <span style=\"color: #00af00; text-decoration-color: #00af00\">146</span>, <span style=\"color: #00af00; text-decoration-color: #00af00\">8</span>)         │            <span style=\"color: #00af00; text-decoration-color: #00af00\">32</span> │\n",
       "│ (<span style=\"color: #0087ff; text-decoration-color: #0087ff\">BatchNormalization</span>)            │                        │               │\n",
       "├─────────────────────────────────┼────────────────────────┼───────────────┤\n",
       "│ max_pooling1d (<span style=\"color: #0087ff; text-decoration-color: #0087ff\">MaxPooling1D</span>)    │ (<span style=\"color: #00d7ff; text-decoration-color: #00d7ff\">None</span>, <span style=\"color: #00af00; text-decoration-color: #00af00\">73</span>, <span style=\"color: #00af00; text-decoration-color: #00af00\">8</span>)          │             <span style=\"color: #00af00; text-decoration-color: #00af00\">0</span> │\n",
       "├─────────────────────────────────┼────────────────────────┼───────────────┤\n",
       "│ dropout (<span style=\"color: #0087ff; text-decoration-color: #0087ff\">Dropout</span>)               │ (<span style=\"color: #00d7ff; text-decoration-color: #00d7ff\">None</span>, <span style=\"color: #00af00; text-decoration-color: #00af00\">73</span>, <span style=\"color: #00af00; text-decoration-color: #00af00\">8</span>)          │             <span style=\"color: #00af00; text-decoration-color: #00af00\">0</span> │\n",
       "├─────────────────────────────────┼────────────────────────┼───────────────┤\n",
       "│ conv1d_1 (<span style=\"color: #0087ff; text-decoration-color: #0087ff\">Conv1D</span>)               │ (<span style=\"color: #00d7ff; text-decoration-color: #00d7ff\">None</span>, <span style=\"color: #00af00; text-decoration-color: #00af00\">69</span>, <span style=\"color: #00af00; text-decoration-color: #00af00\">16</span>)         │           <span style=\"color: #00af00; text-decoration-color: #00af00\">656</span> │\n",
       "├─────────────────────────────────┼────────────────────────┼───────────────┤\n",
       "│ batch_normalization_1           │ (<span style=\"color: #00d7ff; text-decoration-color: #00d7ff\">None</span>, <span style=\"color: #00af00; text-decoration-color: #00af00\">69</span>, <span style=\"color: #00af00; text-decoration-color: #00af00\">16</span>)         │            <span style=\"color: #00af00; text-decoration-color: #00af00\">64</span> │\n",
       "│ (<span style=\"color: #0087ff; text-decoration-color: #0087ff\">BatchNormalization</span>)            │                        │               │\n",
       "├─────────────────────────────────┼────────────────────────┼───────────────┤\n",
       "│ max_pooling1d_1 (<span style=\"color: #0087ff; text-decoration-color: #0087ff\">MaxPooling1D</span>)  │ (<span style=\"color: #00d7ff; text-decoration-color: #00d7ff\">None</span>, <span style=\"color: #00af00; text-decoration-color: #00af00\">34</span>, <span style=\"color: #00af00; text-decoration-color: #00af00\">16</span>)         │             <span style=\"color: #00af00; text-decoration-color: #00af00\">0</span> │\n",
       "├─────────────────────────────────┼────────────────────────┼───────────────┤\n",
       "│ dropout_1 (<span style=\"color: #0087ff; text-decoration-color: #0087ff\">Dropout</span>)             │ (<span style=\"color: #00d7ff; text-decoration-color: #00d7ff\">None</span>, <span style=\"color: #00af00; text-decoration-color: #00af00\">34</span>, <span style=\"color: #00af00; text-decoration-color: #00af00\">16</span>)         │             <span style=\"color: #00af00; text-decoration-color: #00af00\">0</span> │\n",
       "├─────────────────────────────────┼────────────────────────┼───────────────┤\n",
       "│ flatten (<span style=\"color: #0087ff; text-decoration-color: #0087ff\">Flatten</span>)               │ (<span style=\"color: #00d7ff; text-decoration-color: #00d7ff\">None</span>, <span style=\"color: #00af00; text-decoration-color: #00af00\">544</span>)            │             <span style=\"color: #00af00; text-decoration-color: #00af00\">0</span> │\n",
       "├─────────────────────────────────┼────────────────────────┼───────────────┤\n",
       "│ dense (<span style=\"color: #0087ff; text-decoration-color: #0087ff\">Dense</span>)                   │ (<span style=\"color: #00d7ff; text-decoration-color: #00d7ff\">None</span>, <span style=\"color: #00af00; text-decoration-color: #00af00\">32</span>)             │        <span style=\"color: #00af00; text-decoration-color: #00af00\">17,440</span> │\n",
       "├─────────────────────────────────┼────────────────────────┼───────────────┤\n",
       "│ dropout_2 (<span style=\"color: #0087ff; text-decoration-color: #0087ff\">Dropout</span>)             │ (<span style=\"color: #00d7ff; text-decoration-color: #00d7ff\">None</span>, <span style=\"color: #00af00; text-decoration-color: #00af00\">32</span>)             │             <span style=\"color: #00af00; text-decoration-color: #00af00\">0</span> │\n",
       "├─────────────────────────────────┼────────────────────────┼───────────────┤\n",
       "│ dense_1 (<span style=\"color: #0087ff; text-decoration-color: #0087ff\">Dense</span>)                 │ (<span style=\"color: #00d7ff; text-decoration-color: #00d7ff\">None</span>, <span style=\"color: #00af00; text-decoration-color: #00af00\">2</span>)              │            <span style=\"color: #00af00; text-decoration-color: #00af00\">66</span> │\n",
       "└─────────────────────────────────┴────────────────────────┴───────────────┘\n",
       "</pre>\n"
      ],
      "text/plain": [
       "┏━━━━━━━━━━━━━━━━━━━━━━━━━━━━━━━━━┳━━━━━━━━━━━━━━━━━━━━━━━━┳━━━━━━━━━━━━━━━┓\n",
       "┃\u001b[1m \u001b[0m\u001b[1mLayer (type)                   \u001b[0m\u001b[1m \u001b[0m┃\u001b[1m \u001b[0m\u001b[1mOutput Shape          \u001b[0m\u001b[1m \u001b[0m┃\u001b[1m \u001b[0m\u001b[1m      Param #\u001b[0m\u001b[1m \u001b[0m┃\n",
       "┡━━━━━━━━━━━━━━━━━━━━━━━━━━━━━━━━━╇━━━━━━━━━━━━━━━━━━━━━━━━╇━━━━━━━━━━━━━━━┩\n",
       "│ conv1d (\u001b[38;5;33mConv1D\u001b[0m)                 │ (\u001b[38;5;45mNone\u001b[0m, \u001b[38;5;34m146\u001b[0m, \u001b[38;5;34m8\u001b[0m)         │           \u001b[38;5;34m128\u001b[0m │\n",
       "├─────────────────────────────────┼────────────────────────┼───────────────┤\n",
       "│ batch_normalization             │ (\u001b[38;5;45mNone\u001b[0m, \u001b[38;5;34m146\u001b[0m, \u001b[38;5;34m8\u001b[0m)         │            \u001b[38;5;34m32\u001b[0m │\n",
       "│ (\u001b[38;5;33mBatchNormalization\u001b[0m)            │                        │               │\n",
       "├─────────────────────────────────┼────────────────────────┼───────────────┤\n",
       "│ max_pooling1d (\u001b[38;5;33mMaxPooling1D\u001b[0m)    │ (\u001b[38;5;45mNone\u001b[0m, \u001b[38;5;34m73\u001b[0m, \u001b[38;5;34m8\u001b[0m)          │             \u001b[38;5;34m0\u001b[0m │\n",
       "├─────────────────────────────────┼────────────────────────┼───────────────┤\n",
       "│ dropout (\u001b[38;5;33mDropout\u001b[0m)               │ (\u001b[38;5;45mNone\u001b[0m, \u001b[38;5;34m73\u001b[0m, \u001b[38;5;34m8\u001b[0m)          │             \u001b[38;5;34m0\u001b[0m │\n",
       "├─────────────────────────────────┼────────────────────────┼───────────────┤\n",
       "│ conv1d_1 (\u001b[38;5;33mConv1D\u001b[0m)               │ (\u001b[38;5;45mNone\u001b[0m, \u001b[38;5;34m69\u001b[0m, \u001b[38;5;34m16\u001b[0m)         │           \u001b[38;5;34m656\u001b[0m │\n",
       "├─────────────────────────────────┼────────────────────────┼───────────────┤\n",
       "│ batch_normalization_1           │ (\u001b[38;5;45mNone\u001b[0m, \u001b[38;5;34m69\u001b[0m, \u001b[38;5;34m16\u001b[0m)         │            \u001b[38;5;34m64\u001b[0m │\n",
       "│ (\u001b[38;5;33mBatchNormalization\u001b[0m)            │                        │               │\n",
       "├─────────────────────────────────┼────────────────────────┼───────────────┤\n",
       "│ max_pooling1d_1 (\u001b[38;5;33mMaxPooling1D\u001b[0m)  │ (\u001b[38;5;45mNone\u001b[0m, \u001b[38;5;34m34\u001b[0m, \u001b[38;5;34m16\u001b[0m)         │             \u001b[38;5;34m0\u001b[0m │\n",
       "├─────────────────────────────────┼────────────────────────┼───────────────┤\n",
       "│ dropout_1 (\u001b[38;5;33mDropout\u001b[0m)             │ (\u001b[38;5;45mNone\u001b[0m, \u001b[38;5;34m34\u001b[0m, \u001b[38;5;34m16\u001b[0m)         │             \u001b[38;5;34m0\u001b[0m │\n",
       "├─────────────────────────────────┼────────────────────────┼───────────────┤\n",
       "│ flatten (\u001b[38;5;33mFlatten\u001b[0m)               │ (\u001b[38;5;45mNone\u001b[0m, \u001b[38;5;34m544\u001b[0m)            │             \u001b[38;5;34m0\u001b[0m │\n",
       "├─────────────────────────────────┼────────────────────────┼───────────────┤\n",
       "│ dense (\u001b[38;5;33mDense\u001b[0m)                   │ (\u001b[38;5;45mNone\u001b[0m, \u001b[38;5;34m32\u001b[0m)             │        \u001b[38;5;34m17,440\u001b[0m │\n",
       "├─────────────────────────────────┼────────────────────────┼───────────────┤\n",
       "│ dropout_2 (\u001b[38;5;33mDropout\u001b[0m)             │ (\u001b[38;5;45mNone\u001b[0m, \u001b[38;5;34m32\u001b[0m)             │             \u001b[38;5;34m0\u001b[0m │\n",
       "├─────────────────────────────────┼────────────────────────┼───────────────┤\n",
       "│ dense_1 (\u001b[38;5;33mDense\u001b[0m)                 │ (\u001b[38;5;45mNone\u001b[0m, \u001b[38;5;34m2\u001b[0m)              │            \u001b[38;5;34m66\u001b[0m │\n",
       "└─────────────────────────────────┴────────────────────────┴───────────────┘\n"
      ]
     },
     "metadata": {},
     "output_type": "display_data"
    },
    {
     "data": {
      "text/html": [
       "<pre style=\"white-space:pre;overflow-x:auto;line-height:normal;font-family:Menlo,'DejaVu Sans Mono',consolas,'Courier New',monospace\"><span style=\"font-weight: bold\"> Total params: </span><span style=\"color: #00af00; text-decoration-color: #00af00\">18,386</span> (71.82 KB)\n",
       "</pre>\n"
      ],
      "text/plain": [
       "\u001b[1m Total params: \u001b[0m\u001b[38;5;34m18,386\u001b[0m (71.82 KB)\n"
      ]
     },
     "metadata": {},
     "output_type": "display_data"
    },
    {
     "data": {
      "text/html": [
       "<pre style=\"white-space:pre;overflow-x:auto;line-height:normal;font-family:Menlo,'DejaVu Sans Mono',consolas,'Courier New',monospace\"><span style=\"font-weight: bold\"> Trainable params: </span><span style=\"color: #00af00; text-decoration-color: #00af00\">18,338</span> (71.63 KB)\n",
       "</pre>\n"
      ],
      "text/plain": [
       "\u001b[1m Trainable params: \u001b[0m\u001b[38;5;34m18,338\u001b[0m (71.63 KB)\n"
      ]
     },
     "metadata": {},
     "output_type": "display_data"
    },
    {
     "data": {
      "text/html": [
       "<pre style=\"white-space:pre;overflow-x:auto;line-height:normal;font-family:Menlo,'DejaVu Sans Mono',consolas,'Courier New',monospace\"><span style=\"font-weight: bold\"> Non-trainable params: </span><span style=\"color: #00af00; text-decoration-color: #00af00\">48</span> (192.00 B)\n",
       "</pre>\n"
      ],
      "text/plain": [
       "\u001b[1m Non-trainable params: \u001b[0m\u001b[38;5;34m48\u001b[0m (192.00 B)\n"
      ]
     },
     "metadata": {},
     "output_type": "display_data"
    },
    {
     "name": "stdout",
     "output_type": "stream",
     "text": [
      "\n",
      "Training the model...\n",
      "Epoch 1/25\n",
      "\u001b[1m130/130\u001b[0m \u001b[32m━━━━━━━━━━━━━━━━━━━━\u001b[0m\u001b[37m\u001b[0m \u001b[1m6s\u001b[0m 17ms/step - accuracy: 0.8427 - loss: 0.4924 - val_accuracy: 0.8844 - val_loss: 0.2908\n",
      "Epoch 2/25\n",
      "\u001b[1m130/130\u001b[0m \u001b[32m━━━━━━━━━━━━━━━━━━━━\u001b[0m\u001b[37m\u001b[0m \u001b[1m2s\u001b[0m 15ms/step - accuracy: 0.9343 - loss: 0.1677 - val_accuracy: 0.9277 - val_loss: 0.1722\n",
      "Epoch 3/25\n",
      "\u001b[1m130/130\u001b[0m \u001b[32m━━━━━━━━━━━━━━━━━━━━\u001b[0m\u001b[37m\u001b[0m \u001b[1m3s\u001b[0m 24ms/step - accuracy: 0.9447 - loss: 0.1464 - val_accuracy: 0.9340 - val_loss: 0.1590\n",
      "Epoch 4/25\n",
      "\u001b[1m130/130\u001b[0m \u001b[32m━━━━━━━━━━━━━━━━━━━━\u001b[0m\u001b[37m\u001b[0m \u001b[1m5s\u001b[0m 25ms/step - accuracy: 0.9502 - loss: 0.1264 - val_accuracy: 0.9340 - val_loss: 0.1685\n",
      "Epoch 5/25\n",
      "\u001b[1m130/130\u001b[0m \u001b[32m━━━━━━━━━━━━━━━━━━━━\u001b[0m\u001b[37m\u001b[0m \u001b[1m4s\u001b[0m 15ms/step - accuracy: 0.9471 - loss: 0.1272 - val_accuracy: 0.9345 - val_loss: 0.1696\n",
      "Epoch 6/25\n",
      "\u001b[1m130/130\u001b[0m \u001b[32m━━━━━━━━━━━━━━━━━━━━\u001b[0m\u001b[37m\u001b[0m \u001b[1m2s\u001b[0m 15ms/step - accuracy: 0.9488 - loss: 0.1242 - val_accuracy: 0.9408 - val_loss: 0.1498\n",
      "Epoch 7/25\n",
      "\u001b[1m130/130\u001b[0m \u001b[32m━━━━━━━━━━━━━━━━━━━━\u001b[0m\u001b[37m\u001b[0m \u001b[1m3s\u001b[0m 15ms/step - accuracy: 0.9534 - loss: 0.1212 - val_accuracy: 0.9427 - val_loss: 0.1533\n",
      "Epoch 8/25\n",
      "\u001b[1m130/130\u001b[0m \u001b[32m━━━━━━━━━━━━━━━━━━━━\u001b[0m\u001b[37m\u001b[0m \u001b[1m2s\u001b[0m 17ms/step - accuracy: 0.9563 - loss: 0.1054 - val_accuracy: 0.9432 - val_loss: 0.1451\n",
      "Epoch 9/25\n",
      "\u001b[1m130/130\u001b[0m \u001b[32m━━━━━━━━━━━━━━━━━━━━\u001b[0m\u001b[37m\u001b[0m \u001b[1m4s\u001b[0m 25ms/step - accuracy: 0.9546 - loss: 0.1089 - val_accuracy: 0.9422 - val_loss: 0.1477\n",
      "Epoch 10/25\n",
      "\u001b[1m130/130\u001b[0m \u001b[32m━━━━━━━━━━━━━━━━━━━━\u001b[0m\u001b[37m\u001b[0m \u001b[1m2s\u001b[0m 15ms/step - accuracy: 0.9549 - loss: 0.1090 - val_accuracy: 0.9441 - val_loss: 0.1577\n",
      "Epoch 11/25\n",
      "\u001b[1m130/130\u001b[0m \u001b[32m━━━━━━━━━━━━━━━━━━━━\u001b[0m\u001b[37m\u001b[0m \u001b[1m2s\u001b[0m 16ms/step - accuracy: 0.9533 - loss: 0.1136 - val_accuracy: 0.9451 - val_loss: 0.1474\n",
      "Epoch 12/25\n",
      "\u001b[1m130/130\u001b[0m \u001b[32m━━━━━━━━━━━━━━━━━━━━\u001b[0m\u001b[37m\u001b[0m \u001b[1m2s\u001b[0m 15ms/step - accuracy: 0.9538 - loss: 0.1054 - val_accuracy: 0.9436 - val_loss: 0.1393\n",
      "Epoch 13/25\n",
      "\u001b[1m130/130\u001b[0m \u001b[32m━━━━━━━━━━━━━━━━━━━━\u001b[0m\u001b[37m\u001b[0m \u001b[1m2s\u001b[0m 16ms/step - accuracy: 0.9538 - loss: 0.1050 - val_accuracy: 0.9441 - val_loss: 0.1405\n",
      "Epoch 14/25\n",
      "\u001b[1m130/130\u001b[0m \u001b[32m━━━━━━━━━━━━━━━━━━━━\u001b[0m\u001b[37m\u001b[0m \u001b[1m3s\u001b[0m 20ms/step - accuracy: 0.9594 - loss: 0.1028 - val_accuracy: 0.9446 - val_loss: 0.1297\n",
      "Epoch 15/25\n",
      "\u001b[1m130/130\u001b[0m \u001b[32m━━━━━━━━━━━━━━━━━━━━\u001b[0m\u001b[37m\u001b[0m \u001b[1m3s\u001b[0m 23ms/step - accuracy: 0.9557 - loss: 0.0981 - val_accuracy: 0.9451 - val_loss: 0.1267\n",
      "Epoch 16/25\n",
      "\u001b[1m130/130\u001b[0m \u001b[32m━━━━━━━━━━━━━━━━━━━━\u001b[0m\u001b[37m\u001b[0m \u001b[1m2s\u001b[0m 15ms/step - accuracy: 0.9548 - loss: 0.1077 - val_accuracy: 0.9456 - val_loss: 0.1345\n",
      "Epoch 17/25\n",
      "\u001b[1m130/130\u001b[0m \u001b[32m━━━━━━━━━━━━━━━━━━━━\u001b[0m\u001b[37m\u001b[0m \u001b[1m2s\u001b[0m 15ms/step - accuracy: 0.9531 - loss: 0.1085 - val_accuracy: 0.9465 - val_loss: 0.1311\n",
      "Epoch 18/25\n",
      "\u001b[1m130/130\u001b[0m \u001b[32m━━━━━━━━━━━━━━━━━━━━\u001b[0m\u001b[37m\u001b[0m \u001b[1m2s\u001b[0m 15ms/step - accuracy: 0.9612 - loss: 0.0940 - val_accuracy: 0.9451 - val_loss: 0.1309\n",
      "Epoch 19/25\n",
      "\u001b[1m130/130\u001b[0m \u001b[32m━━━━━━━━━━━━━━━━━━━━\u001b[0m\u001b[37m\u001b[0m \u001b[1m3s\u001b[0m 15ms/step - accuracy: 0.9579 - loss: 0.0985 - val_accuracy: 0.9451 - val_loss: 0.1342\n",
      "Epoch 20/25\n",
      "\u001b[1m130/130\u001b[0m \u001b[32m━━━━━━━━━━━━━━━━━━━━\u001b[0m\u001b[37m\u001b[0m \u001b[1m2s\u001b[0m 19ms/step - accuracy: 0.9581 - loss: 0.0977 - val_accuracy: 0.9441 - val_loss: 0.1284\n",
      "\n",
      "Evaluating the model on test data...\n",
      "Test Accuracy: 0.9565\n",
      "Test Loss: 0.1030\n",
      "\u001b[1m82/82\u001b[0m \u001b[32m━━━━━━━━━━━━━━━━━━━━\u001b[0m\u001b[37m\u001b[0m \u001b[1m1s\u001b[0m 7ms/step\n",
      "\n",
      "Classification Report:\n",
      "              precision    recall  f1-score   support\n",
      "\n",
      "     ADL (0)       1.00      0.95      0.97      2039\n",
      "    Fall (1)       0.84      0.99      0.91       556\n",
      "\n",
      "    accuracy                           0.96      2595\n",
      "   macro avg       0.92      0.97      0.94      2595\n",
      "weighted avg       0.96      0.96      0.96      2595\n",
      "\n",
      "\n",
      "Confusion Matrix:\n",
      "[[1934  105]\n",
      " [   8  548]]\n"
     ]
    },
    {
     "data": {
      "image/png": "[encoded data removed]",
      "text/plain": [
       "<Figure size 600x400 with 2 Axes>"
      ]
     },
     "metadata": {},
     "output_type": "display_data"
    },
    {
     "name": "stderr",
     "output_type": "stream",
     "text": [
      "WARNING:absl:You are saving your model as an HDF5 file via `model.save()` or `keras.saving.save_model(model)`. This file format is considered legacy. We recommend using instead the native Keras format, e.g. `model.save('my_model.keras')` or `keras.saving.save_model(model, 'my_model.keras')`. \n"
     ]
    },
    {
     "name": "stdout",
     "output_type": "stream",
     "text": [
      "\n",
      "Saving the trained model to Google Drive...\n",
      "Model saved as /content/drive/My Drive/Colab Notebooks/TinyML_Fall_Detection/fall_detection_model.h5\n"
     ]
    }
   ],
   "source": [
    "#Cell 4: Model Training\n",
    "\n",
    "import numpy as np\n",
    "import tensorflow as tf\n",
    "from tensorflow.keras.models import Sequential\n",
    "from tensorflow.keras.layers import Conv1D, MaxPooling1D, Flatten, Dense, Dropout, BatchNormalization\n",
    "from sklearn.metrics import classification_report, confusion_matrix\n",
    "import matplotlib.pyplot as plt\n",
    "import seaborn as sns\n",
    "\n",
    "# --- Configuration (UPDATED FOR COLAB/DRIVE) ---\n",
    "DRIVE_PROJECT_PATH = '/content/drive/My Drive/Colab Notebooks/TinyML_Fall_Detection/'\n",
    "\n",
    "# --- Load Preprocessed Data from Google Drive ---\n",
    "print(\"Loading preprocessed data from Google Drive...\")\n",
    "try:\n",
    "    X_train = np.load(os.path.join(DRIVE_PROJECT_PATH, 'X_train.npy'))\n",
    "    y_train = np.load(os.path.join(DRIVE_PROJECT_PATH, 'y_train.npy'))\n",
    "    X_test = np.load(os.path.join(DRIVE_PROJECT_PATH, 'X_test.npy'))\n",
    "    y_test = np.load(os.path.join(DRIVE_PROJECT_PATH, 'y_test.npy'))\n",
    "    print(\"Data loaded successfully.\")\n",
    "except FileNotFoundError:\n",
    "    print(\"ERROR: Processed data files not found in Google Drive. Please run the previous cell (Data Preparation) first.\")\n",
    "    # Stop further execution in this cell if files are missing\n",
    "    raise\n",
    "\n",
    "print(f\"Training data shape: {X_train.shape}\")\n",
    "\n",
    "# --- Model Configuration ---\n",
    "TIME_STEPS = X_train.shape[1]\n",
    "NUM_FEATURES = X_train.shape[2]\n",
    "NUM_CLASSES = len(np.unique(y_train)) # Dynamically get number of classes\n",
    "\n",
    "if NUM_CLASSES < 2:\n",
    "    print(\"Error: Not enough classes in the training data. Need at least 2.\")\n",
    "    raise ValueError(\"Insufficient classes for training.\")\n",
    "\n",
    "\n",
    "# --- Build the CNN Model ---\n",
    "# Architecture is slightly adjusted for robustness and to be suitable for TinyML\n",
    "model = Sequential([\n",
    "    Conv1D(filters=8, kernel_size=5, activation='relu', input_shape=(TIME_STEPS, NUM_FEATURES)),\n",
    "    BatchNormalization(),\n",
    "    MaxPooling1D(pool_size=2),\n",
    "    Dropout(0.25),\n",
    "\n",
    "    Conv1D(filters=16, kernel_size=5, activation='relu'),\n",
    "    BatchNormalization(),\n",
    "    MaxPooling1D(pool_size=2),\n",
    "    Dropout(0.25),\n",
    "\n",
    "    Flatten(),\n",
    "\n",
    "    Dense(32, activation='relu'),\n",
    "    Dropout(0.5),\n",
    "\n",
    "    Dense(NUM_CLASSES, activation='softmax')\n",
    "])\n",
    "\n",
    "# --- Compile the Model ---\n",
    "model.compile(\n",
    "    optimizer=tf.keras.optimizers.Adam(learning_rate=0.001),\n",
    "    loss='sparse_categorical_crossentropy',\n",
    "    metrics=['accuracy']\n",
    ")\n",
    "\n",
    "model.summary()\n",
    "\n",
    "# --- Train the Model ---\n",
    "print(\"\\nTraining the model...\")\n",
    "# Adding a callback for early stopping can be beneficial\n",
    "early_stopping = tf.keras.callbacks.EarlyStopping(monitor='val_loss', patience=5, restore_best_weights=True)\n",
    "\n",
    "history = model.fit(\n",
    "    X_train,\n",
    "    y_train,\n",
    "    batch_size=64, # Adjusted batch size\n",
    "    epochs=25,     # Increased epochs slightly, early stopping will manage\n",
    "    validation_split=0.2,\n",
    "    callbacks=[early_stopping],\n",
    "    verbose=1\n",
    ")\n",
    "\n",
    "# --- Evaluate the Model ---\n",
    "print(\"\\nEvaluating the model on test data...\")\n",
    "loss, accuracy = model.evaluate(X_test, y_test, verbose=0)\n",
    "print(f\"Test Accuracy: {accuracy:.4f}\")\n",
    "print(f\"Test Loss: {loss:.4f}\")\n",
    "\n",
    "y_pred_probs = model.predict(X_test)\n",
    "y_pred = np.argmax(y_pred_probs, axis=1)\n",
    "\n",
    "print(\"\\nClassification Report:\")\n",
    "target_names = ['ADL (0)', 'Fall (1)'] # Assuming 0 for ADL, 1 for Fall\n",
    "print(classification_report(y_test, y_pred, target_names=target_names))\n",
    "\n",
    "print(\"\\nConfusion Matrix:\")\n",
    "cm = confusion_matrix(y_test, y_pred)\n",
    "print(cm)\n",
    "\n",
    "# Plot confusion matrix\n",
    "plt.figure(figsize=(6,4))\n",
    "sns.heatmap(cm, annot=True, fmt='d', cmap='Blues', xticklabels=target_names, yticklabels=target_names)\n",
    "plt.title('Confusion Matrix')\n",
    "plt.ylabel('Actual Labels')\n",
    "plt.xlabel('Predicted Labels')\n",
    "plt.show()\n",
    "\n",
    "\n",
    "# --- Save the Trained Model to Google Drive ---\n",
    "print(\"\\nSaving the trained model to Google Drive...\")\n",
    "model_save_path = os.path.join(DRIVE_PROJECT_PATH, 'fall_detection_model.h5')\n",
    "model.save(model_save_path)\n",
    "print(f\"Model saved as {model_save_path}\")"
   ]
  },
  {
   "cell_type": "code",
   "execution_count": null,
   "metadata": {
    "colab": {
     "base_uri": "https://localhost:8080/"
    },
    "executionInfo": {
     "elapsed": 16748,
     "status": "ok",
     "timestamp": 1750489492640,
     "user": {
      "displayName": "Laukik Wadhwa",
      "userId": "16429573543853500560"
     },
     "user_tz": -330
    },
    "id": "23hgYNoM2v73",
    "outputId": "09542865-a9d5-438e-fc15-0ead03a4da65"
   },
   "outputs": [
    {
     "name": "stdout",
     "output_type": "stream",
     "text": [
      "Saved artifact at '/tmp/tmp175e1zej'. The following endpoints are available:\n",
      "\n",
      "* Endpoint 'serve'\n",
      "  args_0 (POSITIONAL_ONLY): TensorSpec(shape=(None, 150, 3), dtype=tf.float32, name='input_layer')\n",
      "Output Type:\n",
      "  TensorSpec(shape=(None, 2), dtype=tf.float32, name=None)\n",
      "Captures:\n",
      "  140220417954000: TensorSpec(shape=(), dtype=tf.resource, name=None)\n",
      "  140220417958032: TensorSpec(shape=(), dtype=tf.resource, name=None)\n",
      "  140220417960144: TensorSpec(shape=(), dtype=tf.resource, name=None)\n",
      "  140220417961488: TensorSpec(shape=(), dtype=tf.resource, name=None)\n",
      "  140220417961296: TensorSpec(shape=(), dtype=tf.resource, name=None)\n",
      "  140220417959184: TensorSpec(shape=(), dtype=tf.resource, name=None)\n",
      "  140220417963024: TensorSpec(shape=(), dtype=tf.resource, name=None)\n",
      "  140220417964752: TensorSpec(shape=(), dtype=tf.resource, name=None)\n",
      "  140220417963216: TensorSpec(shape=(), dtype=tf.resource, name=None)\n",
      "  140220417965712: TensorSpec(shape=(), dtype=tf.resource, name=None)\n",
      "  140220417962832: TensorSpec(shape=(), dtype=tf.resource, name=None)\n",
      "  140220417964560: TensorSpec(shape=(), dtype=tf.resource, name=None)\n",
      "  140220415574288: TensorSpec(shape=(), dtype=tf.resource, name=None)\n",
      "  140220415576016: TensorSpec(shape=(), dtype=tf.resource, name=None)\n",
      "  140220415574864: TensorSpec(shape=(), dtype=tf.resource, name=None)\n",
      "  140220415577168: TensorSpec(shape=(), dtype=tf.resource, name=None)\n"
     ]
    },
    {
     "name": "stderr",
     "output_type": "stream",
     "text": [
      "/usr/local/lib/python3.11/dist-packages/tensorflow/lite/python/convert.py:997: UserWarning: Statistics for quantized inputs were expected, but not specified; continuing anyway.\n",
      "  warnings.warn(\n"
     ]
    },
    {
     "name": "stdout",
     "output_type": "stream",
     "text": [
      "Quantized TFLite model saved to: /content/drive/My Drive/Colab Notebooks/TinyML_Fall_Detection/fall_detection_model.tflite\n",
      "TFLite model size: 27.39 KB\n",
      "\n",
      "TFLite model converted to C source file: /content/drive/My Drive/Colab Notebooks/TinyML_Fall_Detection/fall_detection_model.h\n",
      "C header file size: 169.02 KB\n",
      "\n",
      "First few lines of the C header file:\n",
      "head: cannot open '/content/drive/My' for reading: No such file or directory\n",
      "head: cannot open 'Drive/Colab' for reading: No such file or directory\n",
      "head: cannot open 'Notebooks/TinyML_Fall_Detection/fall_detection_model.h' for reading: No such file or directory\n"
     ]
    }
   ],
   "source": [
    "# Cell 5: Model Conversion to TensorFlow Lite and C Array (FINAL CORRECTED VERSION)\n",
    "\n",
    "import tensorflow as tf\n",
    "import numpy as np\n",
    "import os\n",
    "\n",
    "# --- Configuration ---\n",
    "DRIVE_PROJECT_PATH = '/content/drive/My Drive/Colab Notebooks/TinyML_Fall_Detection/'\n",
    "KERAS_MODEL_PATH = os.path.join(DRIVE_PROJECT_PATH, 'fall_detection_model.h5')\n",
    "TFLITE_MODEL_PATH = os.path.join(DRIVE_PROJECT_PATH, 'fall_detection_model.tflite')\n",
    "C_MODEL_PATH = os.path.join(DRIVE_PROJECT_PATH, 'fall_detection_model.h')\n",
    "\n",
    "# --- Load the saved Keras model ---\n",
    "# We use compile=False as we only need the architecture and weights for conversion.\n",
    "model = tf.keras.models.load_model(KERAS_MODEL_PATH, compile=False)\n",
    "\n",
    "\n",
    "# --- TensorFlow Lite Conversion with Post-Training Integer Quantization ---\n",
    "\n",
    "# 1. Representative Dataset Generator\n",
    "X_train_for_rep_data = np.load(os.path.join(DRIVE_PROJECT_PATH, 'X_train.npy'))\n",
    "\n",
    "def representative_data_gen():\n",
    "  num_calibration_samples = min(100, X_train_for_rep_data.shape[0])\n",
    "  for i in range(num_calibration_samples):\n",
    "    yield [X_train_for_rep_data[i:i+1].astype(np.float32)]\n",
    "\n",
    "# 2. Initialize and run the TFLite Converter\n",
    "converter = tf.lite.TFLiteConverter.from_keras_model(model)\n",
    "converter.optimizations = [tf.lite.Optimize.DEFAULT]\n",
    "converter.representative_dataset = representative_data_gen\n",
    "converter.target_spec.supported_ops = [tf.lite.OpsSet.TFLITE_BUILTINS_INT8]\n",
    "converter.inference_input_type = tf.int8\n",
    "converter.inference_output_type = tf.int8\n",
    "tflite_model_quant = converter.convert()\n",
    "\n",
    "# 3. Save the quantized TFLite model\n",
    "with open(TFLITE_MODEL_PATH, 'wb') as f:\n",
    "    f.write(tflite_model_quant)\n",
    "print(f\"Quantized TFLite model saved to: {TFLITE_MODEL_PATH}\")\n",
    "print(f\"TFLite model size: {os.path.getsize(TFLITE_MODEL_PATH)/1024:.2f} KB\")\n",
    "\n",
    "\n",
    "# --- Convert to C byte array using xxd (with a fixed, valid variable name) ---\n",
    "# THIS IS THE CRITICAL FIX\n",
    "# We are forcing the C variable name to be 'fall_detection_model_tflite'\n",
    "# The 'sed' command now replaces the auto-generated name with our desired name.\n",
    "\n",
    "# Escape spaces in paths for the shell command\n",
    "escaped_tflite_path = TFLITE_MODEL_PATH.replace(' ', '\\\\ ')\n",
    "escaped_c_model_path = C_MODEL_PATH.replace(' ', '\\\\ ')\n",
    "\n",
    "# Generate the C header file\n",
    "os.system(f'xxd -i {escaped_tflite_path} > {escaped_c_model_path}')\n",
    "# Replace the auto-generated variable name and length with our clean versions\n",
    "os.system(f\"sed -i 's/unsigned char.*/unsigned char fall_detection_model_tflite[] = {{/g' {escaped_c_model_path}\")\n",
    "os.system(f\"sed -i 's/unsigned int.*/const unsigned int fall_detection_model_tflite_len = {os.path.getsize(TFLITE_MODEL_PATH)};/g' {escaped_c_model_path}\")\n",
    "\n",
    "\n",
    "print(f\"\\nTFLite model converted to C source file: {C_MODEL_PATH}\")\n",
    "print(f\"C header file size: {os.path.getsize(C_MODEL_PATH)/1024:.2f} KB\")\n",
    "print(\"\\nFirst few lines of the C header file:\")\n",
    "!head -n 5 {C_MODEL_PATH}"
   ]
  }
 ],
 "metadata": {
  "colab": {
   "provenance": []
  },
  "kernelspec": {
   "display_name": "Python 3",
   "name": "python3"
  },
  "language_info": {
   "name": "python"
  }
 },
 "nbformat": 4,
 "nbformat_minor": 0
}
